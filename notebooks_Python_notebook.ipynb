{
  "metadata": {
    "language_info": {
      "codemirror_mode": {
        "name": "python",
        "version": 3
      },
      "file_extension": ".py",
      "mimetype": "text/x-python",
      "name": "python",
      "nbconvert_exporter": "python",
      "pygments_lexer": "ipython3",
      "version": "3.8"
    },
    "kernelspec": {
      "name": "python",
      "display_name": "Python (Pyodide)",
      "language": "python"
    }
  },
  "nbformat_minor": 4,
  "nbformat": 4,
  "cells": [
    {
      "cell_type": "code",
      "source": "#Banking system\n\n#parent class \nclass User():\n    def __init__ (self,name,age,gender):\n        self.name=name\n        self.age=age\n        self.gender=gender\n     #show detail of user    \n    def show_detail(self):\n        print(\"presonal details\")\n        print(\"=============\")\n        print(self.name,self.age,self.gender)\n        \n        \n#child class\nclass bank(User):\n    def __init__(self,name,age,gender):\n        #TO have acces of parent variable\n        super() .__init__ (name,age,gender)\n        self.balance_9=0\n    \n    \n    def deposite(self,amount_9):\n        self.amount_9=amount_9\n        self.balance_9=self.balance_9+self.amount_9\n        print(\"balance\",self.balance_9)\n        \n    def withdrow(self,amount_9):\n         self.amount_9=amount_9\n         if self.amount_9>self.balance_9:\n            print(\"Less money\",self.balance_9)\n         else:\n            self.balance_9=self.balance_9-self.amount_9\n            print(self.balance_9)\n            \n    def show():\n        self.show_detail()\n        print(self.balance_9)",
      "metadata": {
        "trusted": true
      },
      "execution_count": 81,
      "outputs": []
    },
    {
      "cell_type": "code",
      "source": "# nilesh=User('ni',25,'male')\n# nilesh.show_detail()\nni=bank('ni',25,'male')\n#ni.amount(900)\nni.deposite(9020)\nni.withdrow(9030)",
      "metadata": {
        "trusted": true
      },
      "execution_count": 82,
      "outputs": [
        {
          "name": "stdout",
          "text": "balance 9020\nLess money 9020\n",
          "output_type": "stream"
        }
      ]
    },
    {
      "cell_type": "code",
      "source": "",
      "metadata": {},
      "execution_count": null,
      "outputs": []
    }
  ]
}